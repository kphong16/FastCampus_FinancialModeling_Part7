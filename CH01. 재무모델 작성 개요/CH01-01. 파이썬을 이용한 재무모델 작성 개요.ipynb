{
 "cells": [
  {
   "cell_type": "markdown",
   "metadata": {},
   "source": [
    "# [ 1-1. 파이썬을 이용한 재무모델 작성 개요 ]"
   ]
  },
  {
   "cell_type": "markdown",
   "metadata": {},
   "source": [
    "## 1. 엑셀로 작성한 재무모델 예시\n",
    "### 1-1. 엑셀파일 가정 sheet\n",
    "![가정sheet](image/CH01-01-01.png)"
   ]
  },
  {
   "cell_type": "markdown",
   "metadata": {},
   "source": [
    "### 1-2. 엑셀파일 Cashflow sheet\n",
    "![cashflow_sheet](image/CH01-01-02.png)"
   ]
  },
  {
   "cell_type": "markdown",
   "metadata": {},
   "source": [
    "## 2. 파이썬으로 재무모델 작성 개요"
   ]
  },
  {
   "cell_type": "markdown",
   "metadata": {},
   "source": [
    "### 2-1. 가정 설정\n",
    "\n",
    "* 주요 가정 내용을 엑셀파일에 작성하되, 파이썬을 통해서 데이터 로딩이 가능하도록 일정한 규칙에 따라 가정 내용 작성\n",
    "\n",
    "* openpyxl 라이브러리를 이용하여 가정 엑셀파일의 내용을 읽어들인 후 \"assumption\" dictionary에 저장\n",
    "\n",
    "#### [재무모델 가정 엑셀파일]\n",
    "![재무모델 가정 파일](image/CH01-01-03.png)\n",
    "\n",
    "#### [가정 데이터 로딩 코드 예시]\n",
    "![가정 데이터 로딩 코드](image/CH01-01-04.png)"
   ]
  },
  {
   "cell_type": "markdown",
   "metadata": {},
   "source": [
    "### 2-2. 기간 Index 설정 코드 작성\n",
    "\n",
    "* 전체 사업기간, 운영기간, 주요 이벤트에 대한 기간 등을 index 변수에 설정\n",
    "\n",
    "#### [index 변수에 주요 기간 데이터 설정 예시]\n",
    "![index예시](image/CH01-01-05.png)"
   ]
  },
  {
   "cell_type": "markdown",
   "metadata": {},
   "source": [
    "### 2-3. 자금의 조달 및 소요에 관한 사항 설정 코드 작성\n",
    "\n",
    "* 자기자본, 차입금 등 자금의 조달에 대해 설정하는 코드 작성\n",
    "\n",
    "* 조달된 자금의 사용에 대해 설정하는 코드 작성\n",
    "\n",
    "#### [자금의 조달/소요 설정 코드 예시]\n",
    "![자금조달소요](image/CH01-01-06.png)"
   ]
  },
  {
   "cell_type": "markdown",
   "metadata": {},
   "source": [
    "### 2-4. 운영수입 및 운영비용에 관한 사항 코드 작성\n",
    "\n",
    "* model index에 따라 해당 기간에 발생되는 운영수입과 운영비용에 대한 인식 방법을 코드로 작성\n",
    "\n",
    "* 운영수입의 경우 총객실수, 판매가능객실수 등 운영수입 계산을 위한 기초 계산 완료 후 최종적으로 해당 기간에 인식되는 객실수입을 계산\n",
    "\n",
    "* 운영비용의 경우 운영수입에 연동되어 발생되는 비용은 운영수입에 연동되도록 코드 작성하며, 고정비는 주어진 가정에 맞춰서 코드 작성함"
   ]
  },
  {
   "cell_type": "markdown",
   "metadata": {},
   "source": [
    "#### [운영수입 계산 코드 예시]\n",
    "![운영수입 코드](image/CH01-01-07.png)"
   ]
  },
  {
   "cell_type": "markdown",
   "metadata": {},
   "source": [
    "#### [운영비용 계산 코드 예시]\n",
    "![운영비용 코드](image/CH01-01-08.png)"
   ]
  },
  {
   "cell_type": "markdown",
   "metadata": {},
   "source": [
    "### 2-5. 현금흐름 계산\n",
    "\n",
    "* model index에 따라 현금의 유입과 유출을 기록\n",
    "\n",
    "* 유입과 유출의 history는 \"cashflow\" 변수에 저장\n",
    "\n",
    "* 기초/기말현금, 입금금액, 출금금액은 \"balance\" 변수에 저장"
   ]
  },
  {
   "cell_type": "markdown",
   "metadata": {},
   "source": [
    "#### [현금흐름 기록 코드 예시]\n",
    "![현금흐름기록](image/CH01-01-09.png)"
   ]
  },
  {
   "cell_type": "markdown",
   "metadata": {},
   "source": [
    "#### [현금흐름 최종 결과물 예시]\n",
    "![현금흐름기록](image/CH01-01-10.png)"
   ]
  },
  {
   "cell_type": "markdown",
   "metadata": {},
   "source": [
    "#### [엑셀파일 출력 결과물 예시]\n",
    "![현금흐름기록](image/CH01-01-11.png)"
   ]
  },
  {
   "cell_type": "markdown",
   "metadata": {},
   "source": []
  }
 ],
 "metadata": {
  "kernelspec": {
   "display_name": "Python 3",
   "language": "python",
   "name": "python3"
  },
  "language_info": {
   "name": "python",
   "version": "3.11.4"
  }
 },
 "nbformat": 4,
 "nbformat_minor": 2
}
