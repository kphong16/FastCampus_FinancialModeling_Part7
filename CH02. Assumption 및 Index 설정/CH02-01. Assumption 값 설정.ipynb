{
 "cells": [
  {
   "cell_type": "markdown",
   "metadata": {},
   "source": [
    "# [ 2-1. Assumption 값 설정 ]"
   ]
  },
  {
   "cell_type": "markdown",
   "metadata": {},
   "source": [
    "## 1. Assumption 엑셀 파일 작성\n",
    "### 1-1. 엑셀로 작성한 재무모델의 가정 sheet\n",
    "![엑셀 재무모델 가정sheet](image/CH02-01-01.png)"
   ]
  },
  {
   "cell_type": "markdown",
   "metadata": {
    "vscode": {
     "languageId": "plaintext"
    }
   },
   "source": [
    "### 1-2. 파이썬 로딩을 위해 작성한 가정 데이터\n",
    "* A열, B열, C열은 딕셔너리의 키값으로 사용\n",
    "* D열은 딕셔너리의 Value 값으로 사용\n",
    "![가정데이터엑셀](image/CH02-01-02.png)"
   ]
  },
  {
   "cell_type": "markdown",
   "metadata": {},
   "source": [
    "## 2. Assumption 엑셀 데이터 로딩"
   ]
  },
  {
   "cell_type": "markdown",
   "metadata": {},
   "source": [
    "### 2-1. Assumption 데이터 로딩 개요"
   ]
  },
  {
   "cell_type": "code",
   "execution_count": 2,
   "metadata": {},
   "outputs": [],
   "source": [
    "assumption = {}\n",
    "\n",
    "# row 1\n",
    "assumption['business_overview'] = {}\n",
    "\n",
    "# row 2\n",
    "assumption['business_overview']['사업개요'] = {}\n",
    "\n",
    "# row 3\n",
    "assumption['business_overview']['사업개요']['사업내용'] = '호텔건물 매입 및 운영 사업'\n",
    "\n",
    "# row 4\n",
    "assumption['business_overview']['사업개요']['건물명'] = 'FS호텔'\n",
    "\n",
    "# row 5\n",
    "assumption['business_overview']['사업개요']['주소'] = '서울시 강남구 테헤란로'\n",
    "\n",
    "# row 6\n",
    "assumption['business_overview']['사업개요']['건물규모'] = '지하1층/지상10층'"
   ]
  },
  {
   "cell_type": "code",
   "execution_count": 3,
   "metadata": {},
   "outputs": [
    {
     "data": {
      "text/plain": [
       "{'business_overview': {'사업개요': {'사업내용': '호텔건물 매입 및 운영 사업',\n",
       "   '건물명': 'FS호텔',\n",
       "   '주소': '서울시 강남구 테헤란로',\n",
       "   '건물규모': '지하1층/지상10층'}}}"
      ]
     },
     "execution_count": 3,
     "metadata": {},
     "output_type": "execute_result"
    }
   ],
   "source": [
    "assumption"
   ]
  },
  {
   "cell_type": "markdown",
   "metadata": {},
   "source": [
    "### 2-2. Assumption 데이터 로딩 코드"
   ]
  },
  {
   "cell_type": "code",
   "execution_count": 1,
   "metadata": {},
   "outputs": [],
   "source": [
    "from openpyxl import load_workbook\n",
    "import pandas as pd"
   ]
  },
  {
   "cell_type": "code",
   "execution_count": 4,
   "metadata": {},
   "outputs": [],
   "source": [
    "wb = load_workbook(\"FCHotel_FSmodeling_assumption.xlsx\")\n",
    "ws = wb['Sheet1']\n",
    "\n",
    "assumption = {}\n",
    "for row in ws.iter_rows(values_only=True):\n",
    "    if row[0] is not None:\n",
    "        assumption[row[0]] = {}\n",
    "        astndct1 = assumption[row[0]]\n",
    "    elif row[1] is not None:\n",
    "        astndct1[row[1]] = {}\n",
    "        astndct2 = astndct1[row[1]]\n",
    "    elif row[2] is not None:\n",
    "        astndct2[row[2]] = row[3]"
   ]
  },
  {
   "cell_type": "code",
   "execution_count": 5,
   "metadata": {},
   "outputs": [
    {
     "data": {
      "text/plain": [
       "{'business_overview': {'사업개요': {'사업내용': '호텔건물 매입 및 운영 사업',\n",
       "   '건물명': 'FS호텔',\n",
       "   '주소': '서울시 강남구 테헤란로',\n",
       "   '건물규모': '지하1층/지상10층'},\n",
       "  '객실수': {'TypeA': 40, 'TypeB': 40, 'TypeC': 20},\n",
       "  '자산매입': {'자산매입금액': 18000000000, '매입부수비용': 1000000000}},\n",
       " 'period_assumptions': {'기본기간가정': {'모델시작일': datetime.datetime(2023, 12, 1, 0, 0),\n",
       "   '모델종료일': datetime.datetime(2027, 1, 31, 0, 0),\n",
       "   '운영시작일': datetime.datetime(2024, 1, 1, 0, 0),\n",
       "   '운영종료일': datetime.datetime(2026, 12, 31, 0, 0)},\n",
       "  '자산매입일정': {'자산매입일': datetime.datetime(2023, 12, 31, 0, 0),\n",
       "   '매입부수비용지급일': datetime.datetime(2023, 12, 31, 0, 0)},\n",
       "  '자금조달일정': {'자기자본유입일': datetime.datetime(2023, 12, 31, 0, 0),\n",
       "   '차입금유입일': datetime.datetime(2023, 12, 31, 0, 0),\n",
       "   '이자지급시작일': datetime.datetime(2024, 1, 1, 0, 0),\n",
       "   '이자지급종료일': datetime.datetime(2026, 12, 31, 0, 0),\n",
       "   '원금상환시작일': datetime.datetime(2024, 1, 1, 0, 0),\n",
       "   '원금상환종료일': datetime.datetime(2026, 12, 31, 0, 0)},\n",
       "  '연간인상률': {'판매단가': 0.05, '운영비': 0.03, '인건비': 0.05}},\n",
       " 'funding_assumptions': {'equity': {'amount': 10000000000,\n",
       "   '최초배당일': datetime.datetime(2025, 12, 31, 0, 0),\n",
       "   '배당률': 0.3},\n",
       "  'loan': {'amount': 10000000000,\n",
       "   '원금상환주기': 3,\n",
       "   '상환원금': 50000000,\n",
       "   '이자지급주기': 1,\n",
       "   '이자율': 0.05}},\n",
       " 'facility_cost': {'통상수선비': {'TypeA': 1000, 'TypeB': 1200, 'TypeC': 2000},\n",
       "  '대수선공사비': {'TypeA': 30000000, 'TypeB': 35000000, 'TypeC': 50000000},\n",
       "  '수선시작일': {'TypeA': datetime.datetime(2025, 3, 1, 0, 0),\n",
       "   'TypeB': datetime.datetime(2025, 4, 1, 0, 0),\n",
       "   'TypeC': datetime.datetime(2025, 5, 1, 0, 0)},\n",
       "  '수선종료일': {'TypeA': datetime.datetime(2025, 3, 31, 0, 0),\n",
       "   'TypeB': datetime.datetime(2025, 4, 30, 0, 0),\n",
       "   'TypeC': datetime.datetime(2025, 5, 31, 0, 0)}},\n",
       " 'monthly_occ_rate': {'TypeA': {1: 0.9,\n",
       "   2: 0.85,\n",
       "   3: 0.8,\n",
       "   4: 0.8,\n",
       "   5: 0.8,\n",
       "   6: 0.7,\n",
       "   7: 0.9,\n",
       "   8: 0.9,\n",
       "   9: 0.8,\n",
       "   10: 0.8,\n",
       "   11: 0.7,\n",
       "   12: 0.9},\n",
       "  'TypeB': {1: 0.9,\n",
       "   2: 0.85,\n",
       "   3: 0.8,\n",
       "   4: 0.8,\n",
       "   5: 0.8,\n",
       "   6: 0.7,\n",
       "   7: 0.9,\n",
       "   8: 0.9,\n",
       "   9: 0.8,\n",
       "   10: 0.8,\n",
       "   11: 0.7,\n",
       "   12: 0.9},\n",
       "  'TypeC': {1: 0.85,\n",
       "   2: 0.8,\n",
       "   3: 0.7,\n",
       "   4: 0.7,\n",
       "   5: 0.75,\n",
       "   6: 0.7,\n",
       "   7: 0.85,\n",
       "   8: 0.85,\n",
       "   9: 0.75,\n",
       "   10: 0.75,\n",
       "   11: 0.7,\n",
       "   12: 0.9}},\n",
       " 'monthly_price': {'TypeA': {1: 130000,\n",
       "   2: 130000,\n",
       "   3: 100000,\n",
       "   4: 100000,\n",
       "   5: 100000,\n",
       "   6: 100000,\n",
       "   7: 130000,\n",
       "   8: 130000,\n",
       "   9: 100000,\n",
       "   10: 100000,\n",
       "   11: 100000,\n",
       "   12: 130000},\n",
       "  'TypeB': {1: 150000,\n",
       "   2: 150000,\n",
       "   3: 120000,\n",
       "   4: 120000,\n",
       "   5: 120000,\n",
       "   6: 120000,\n",
       "   7: 150000,\n",
       "   8: 150000,\n",
       "   9: 120000,\n",
       "   10: 120000,\n",
       "   11: 120000,\n",
       "   12: 150000},\n",
       "  'TypeC': {1: 250000,\n",
       "   2: 250000,\n",
       "   3: 200000,\n",
       "   4: 200000,\n",
       "   5: 200000,\n",
       "   6: 200000,\n",
       "   7: 250000,\n",
       "   8: 250000,\n",
       "   9: 200000,\n",
       "   10: 200000,\n",
       "   11: 200000,\n",
       "   12: 250000}},\n",
       " 'room_operating_cost': {'청소세탁비': {'TypeA': 10000,\n",
       "   'TypeB': 12000,\n",
       "   'TypeC': 20000},\n",
       "  '수도광열비': {'TypeA': 5000, 'TypeB': 6000, 'TypeC': 10000, 'Overhead': 3000000},\n",
       "  '예약수수료율': {'TypeA': 0.03, 'TypeB': 0.03, 'TypeC': 0.03}},\n",
       " 'management_cost': {'광고홍보비예산': {'amount': 200000000},\n",
       "  '광고홍보비': {1: 0.15,\n",
       "   2: 0.15,\n",
       "   3: 0.05,\n",
       "   4: 0.05,\n",
       "   5: 0.05,\n",
       "   6: 0.05,\n",
       "   7: 0.1,\n",
       "   8: 0.1,\n",
       "   9: 0.05,\n",
       "   10: 0.05,\n",
       "   11: 0.05,\n",
       "   12: 0.15},\n",
       "  '기타운영비': {'amount': 10000000}},\n",
       " 'salary_cost': {'employee_count': {'객실운영팀_정규직': 5,\n",
       "   '객실운영팀_임시직': 2,\n",
       "   '경영지원팀_임원': 1,\n",
       "   '경영지원팀_정규직': 3,\n",
       "   '마케팅팀_정규직': 2,\n",
       "   '시설관리팀_정규직': 2,\n",
       "   '시설관리팀_임시직': 1},\n",
       "  'annual_salary': {'객실운영팀_정규직': 36000000,\n",
       "   '객실운영팀_임시직': 30000000,\n",
       "   '경영지원팀_임원': 80000000,\n",
       "   '경영지원팀_정규직': 36000000,\n",
       "   '마케팅팀_정규직': 36000000,\n",
       "   '시설관리팀_정규직': 36000000,\n",
       "   '시설관리팀_임시직': 30000000}}}"
      ]
     },
     "execution_count": 5,
     "metadata": {},
     "output_type": "execute_result"
    }
   ],
   "source": [
    "assumption"
   ]
  },
  {
   "cell_type": "markdown",
   "metadata": {},
   "source": [
    "### 2-3. 주요 가정 데이터의 DataFrame 설정"
   ]
  },
  {
   "cell_type": "code",
   "execution_count": 7,
   "metadata": {},
   "outputs": [],
   "source": [
    "monthly_occ_rate = pd.DataFrame(assumption['monthly_occ_rate'])\n",
    "room_operating_cost = pd.DataFrame(assumption['room_operating_cost'])\n",
    "salary_cost = pd.DataFrame(assumption['salary_cost'])"
   ]
  },
  {
   "cell_type": "code",
   "execution_count": 8,
   "metadata": {},
   "outputs": [
    {
     "data": {
      "text/html": [
       "<div>\n",
       "<style scoped>\n",
       "    .dataframe tbody tr th:only-of-type {\n",
       "        vertical-align: middle;\n",
       "    }\n",
       "\n",
       "    .dataframe tbody tr th {\n",
       "        vertical-align: top;\n",
       "    }\n",
       "\n",
       "    .dataframe thead th {\n",
       "        text-align: right;\n",
       "    }\n",
       "</style>\n",
       "<table border=\"1\" class=\"dataframe\">\n",
       "  <thead>\n",
       "    <tr style=\"text-align: right;\">\n",
       "      <th></th>\n",
       "      <th>TypeA</th>\n",
       "      <th>TypeB</th>\n",
       "      <th>TypeC</th>\n",
       "    </tr>\n",
       "  </thead>\n",
       "  <tbody>\n",
       "    <tr>\n",
       "      <th>1</th>\n",
       "      <td>0.90</td>\n",
       "      <td>0.90</td>\n",
       "      <td>0.85</td>\n",
       "    </tr>\n",
       "    <tr>\n",
       "      <th>2</th>\n",
       "      <td>0.85</td>\n",
       "      <td>0.85</td>\n",
       "      <td>0.80</td>\n",
       "    </tr>\n",
       "    <tr>\n",
       "      <th>3</th>\n",
       "      <td>0.80</td>\n",
       "      <td>0.80</td>\n",
       "      <td>0.70</td>\n",
       "    </tr>\n",
       "    <tr>\n",
       "      <th>4</th>\n",
       "      <td>0.80</td>\n",
       "      <td>0.80</td>\n",
       "      <td>0.70</td>\n",
       "    </tr>\n",
       "    <tr>\n",
       "      <th>5</th>\n",
       "      <td>0.80</td>\n",
       "      <td>0.80</td>\n",
       "      <td>0.75</td>\n",
       "    </tr>\n",
       "    <tr>\n",
       "      <th>6</th>\n",
       "      <td>0.70</td>\n",
       "      <td>0.70</td>\n",
       "      <td>0.70</td>\n",
       "    </tr>\n",
       "    <tr>\n",
       "      <th>7</th>\n",
       "      <td>0.90</td>\n",
       "      <td>0.90</td>\n",
       "      <td>0.85</td>\n",
       "    </tr>\n",
       "    <tr>\n",
       "      <th>8</th>\n",
       "      <td>0.90</td>\n",
       "      <td>0.90</td>\n",
       "      <td>0.85</td>\n",
       "    </tr>\n",
       "    <tr>\n",
       "      <th>9</th>\n",
       "      <td>0.80</td>\n",
       "      <td>0.80</td>\n",
       "      <td>0.75</td>\n",
       "    </tr>\n",
       "    <tr>\n",
       "      <th>10</th>\n",
       "      <td>0.80</td>\n",
       "      <td>0.80</td>\n",
       "      <td>0.75</td>\n",
       "    </tr>\n",
       "    <tr>\n",
       "      <th>11</th>\n",
       "      <td>0.70</td>\n",
       "      <td>0.70</td>\n",
       "      <td>0.70</td>\n",
       "    </tr>\n",
       "    <tr>\n",
       "      <th>12</th>\n",
       "      <td>0.90</td>\n",
       "      <td>0.90</td>\n",
       "      <td>0.90</td>\n",
       "    </tr>\n",
       "  </tbody>\n",
       "</table>\n",
       "</div>"
      ],
      "text/plain": [
       "    TypeA  TypeB  TypeC\n",
       "1    0.90   0.90   0.85\n",
       "2    0.85   0.85   0.80\n",
       "3    0.80   0.80   0.70\n",
       "4    0.80   0.80   0.70\n",
       "5    0.80   0.80   0.75\n",
       "6    0.70   0.70   0.70\n",
       "7    0.90   0.90   0.85\n",
       "8    0.90   0.90   0.85\n",
       "9    0.80   0.80   0.75\n",
       "10   0.80   0.80   0.75\n",
       "11   0.70   0.70   0.70\n",
       "12   0.90   0.90   0.90"
      ]
     },
     "execution_count": 8,
     "metadata": {},
     "output_type": "execute_result"
    }
   ],
   "source": [
    "monthly_occ_rate"
   ]
  },
  {
   "cell_type": "code",
   "execution_count": 9,
   "metadata": {},
   "outputs": [
    {
     "data": {
      "text/html": [
       "<div>\n",
       "<style scoped>\n",
       "    .dataframe tbody tr th:only-of-type {\n",
       "        vertical-align: middle;\n",
       "    }\n",
       "\n",
       "    .dataframe tbody tr th {\n",
       "        vertical-align: top;\n",
       "    }\n",
       "\n",
       "    .dataframe thead th {\n",
       "        text-align: right;\n",
       "    }\n",
       "</style>\n",
       "<table border=\"1\" class=\"dataframe\">\n",
       "  <thead>\n",
       "    <tr style=\"text-align: right;\">\n",
       "      <th></th>\n",
       "      <th>청소세탁비</th>\n",
       "      <th>수도광열비</th>\n",
       "      <th>예약수수료율</th>\n",
       "    </tr>\n",
       "  </thead>\n",
       "  <tbody>\n",
       "    <tr>\n",
       "      <th>TypeA</th>\n",
       "      <td>10000.0</td>\n",
       "      <td>5000</td>\n",
       "      <td>0.03</td>\n",
       "    </tr>\n",
       "    <tr>\n",
       "      <th>TypeB</th>\n",
       "      <td>12000.0</td>\n",
       "      <td>6000</td>\n",
       "      <td>0.03</td>\n",
       "    </tr>\n",
       "    <tr>\n",
       "      <th>TypeC</th>\n",
       "      <td>20000.0</td>\n",
       "      <td>10000</td>\n",
       "      <td>0.03</td>\n",
       "    </tr>\n",
       "    <tr>\n",
       "      <th>Overhead</th>\n",
       "      <td>NaN</td>\n",
       "      <td>3000000</td>\n",
       "      <td>NaN</td>\n",
       "    </tr>\n",
       "  </tbody>\n",
       "</table>\n",
       "</div>"
      ],
      "text/plain": [
       "            청소세탁비    수도광열비  예약수수료율\n",
       "TypeA     10000.0     5000    0.03\n",
       "TypeB     12000.0     6000    0.03\n",
       "TypeC     20000.0    10000    0.03\n",
       "Overhead      NaN  3000000     NaN"
      ]
     },
     "execution_count": 9,
     "metadata": {},
     "output_type": "execute_result"
    }
   ],
   "source": [
    "room_operating_cost"
   ]
  },
  {
   "cell_type": "code",
   "execution_count": 10,
   "metadata": {},
   "outputs": [
    {
     "data": {
      "text/html": [
       "<div>\n",
       "<style scoped>\n",
       "    .dataframe tbody tr th:only-of-type {\n",
       "        vertical-align: middle;\n",
       "    }\n",
       "\n",
       "    .dataframe tbody tr th {\n",
       "        vertical-align: top;\n",
       "    }\n",
       "\n",
       "    .dataframe thead th {\n",
       "        text-align: right;\n",
       "    }\n",
       "</style>\n",
       "<table border=\"1\" class=\"dataframe\">\n",
       "  <thead>\n",
       "    <tr style=\"text-align: right;\">\n",
       "      <th></th>\n",
       "      <th>employee_count</th>\n",
       "      <th>annual_salary</th>\n",
       "    </tr>\n",
       "  </thead>\n",
       "  <tbody>\n",
       "    <tr>\n",
       "      <th>객실운영팀_정규직</th>\n",
       "      <td>5</td>\n",
       "      <td>36000000</td>\n",
       "    </tr>\n",
       "    <tr>\n",
       "      <th>객실운영팀_임시직</th>\n",
       "      <td>2</td>\n",
       "      <td>30000000</td>\n",
       "    </tr>\n",
       "    <tr>\n",
       "      <th>경영지원팀_임원</th>\n",
       "      <td>1</td>\n",
       "      <td>80000000</td>\n",
       "    </tr>\n",
       "    <tr>\n",
       "      <th>경영지원팀_정규직</th>\n",
       "      <td>3</td>\n",
       "      <td>36000000</td>\n",
       "    </tr>\n",
       "    <tr>\n",
       "      <th>마케팅팀_정규직</th>\n",
       "      <td>2</td>\n",
       "      <td>36000000</td>\n",
       "    </tr>\n",
       "    <tr>\n",
       "      <th>시설관리팀_정규직</th>\n",
       "      <td>2</td>\n",
       "      <td>36000000</td>\n",
       "    </tr>\n",
       "    <tr>\n",
       "      <th>시설관리팀_임시직</th>\n",
       "      <td>1</td>\n",
       "      <td>30000000</td>\n",
       "    </tr>\n",
       "  </tbody>\n",
       "</table>\n",
       "</div>"
      ],
      "text/plain": [
       "           employee_count  annual_salary\n",
       "객실운영팀_정규직               5       36000000\n",
       "객실운영팀_임시직               2       30000000\n",
       "경영지원팀_임원                1       80000000\n",
       "경영지원팀_정규직               3       36000000\n",
       "마케팅팀_정규직                2       36000000\n",
       "시설관리팀_정규직               2       36000000\n",
       "시설관리팀_임시직               1       30000000"
      ]
     },
     "execution_count": 10,
     "metadata": {},
     "output_type": "execute_result"
    }
   ],
   "source": [
    "salary_cost"
   ]
  },
  {
   "cell_type": "markdown",
   "metadata": {},
   "source": [
    "## 3. Assumption.py 파일 작성"
   ]
  },
  {
   "cell_type": "code",
   "execution_count": null,
   "metadata": {},
   "outputs": [],
   "source": [
    "# m01_assumption.py\n",
    "\n",
    "from openpyxl import load_workbook\n",
    "import pandas as pd\n",
    "\n",
    "wb = load_workbook(\"FCHotel_FSmodeling_assumption.xlsx\")\n",
    "ws = wb['Sheet1']\n",
    "\n",
    "assumption = {}\n",
    "for row in ws.iter_rows(values_only=True):\n",
    "    if row[0] is not None:\n",
    "        assumption[row[0]] = {}\n",
    "        astndct1 = assumption[row[0]]\n",
    "    elif row[1] is not None:\n",
    "        astndct1[row[1]] = {}\n",
    "        astndct2 = astndct1[row[1]]\n",
    "    elif row[2] is not None:\n",
    "        astndct2[row[2]] = row[3]\n",
    "\n",
    "monthly_occ_rate = pd.DataFrame(assumption['monthly_occ_rate'])\n",
    "room_operating_cost = pd.DataFrame(assumption['room_operating_cost'])\n",
    "salary_cost = pd.DataFrame(assumption['salary_cost'])"
   ]
  }
 ],
 "metadata": {
  "kernelspec": {
   "display_name": "Python 3",
   "language": "python",
   "name": "python3"
  },
  "language_info": {
   "codemirror_mode": {
    "name": "ipython",
    "version": 3
   },
   "file_extension": ".py",
   "mimetype": "text/x-python",
   "name": "python",
   "nbconvert_exporter": "python",
   "pygments_lexer": "ipython3",
   "version": "3.11.4"
  }
 },
 "nbformat": 4,
 "nbformat_minor": 2
}
