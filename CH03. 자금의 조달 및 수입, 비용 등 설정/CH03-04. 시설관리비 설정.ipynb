{
 "cells": [
  {
   "cell_type": "markdown",
   "metadata": {},
   "source": [
    "# [ 3-4. 시설관리비 설정 ]"
   ]
  },
  {
   "cell_type": "markdown",
   "metadata": {},
   "source": [
    "## 1. 필요한 모듈 import 및 기본 설정\n",
    "### 1-1. 필요한 모듈 import"
   ]
  },
  {
   "cell_type": "code",
   "execution_count": 1,
   "metadata": {},
   "outputs": [],
   "source": [
    "import pandas as pd\n",
    "pd.set_option('display.max_rows', 30)\n",
    "pd.set_option('display.max_columns', 100)\n",
    "pd.set_option('display.max_colwidth', 20)\n",
    "pd.set_option('display.width', 300)\n",
    "\n",
    "# DataFrame의 출력을 확장하여 한 줄로 계속 출력되도록 설정\n",
    "pd.set_option('display.expand_frame_repr', True)\n",
    "\n",
    "from m00_general_function import subtotal\n",
    "from m01_assumption import assumption\n",
    "from m02_index import index\n",
    "from m04_operating_income import operating_income"
   ]
  },
  {
   "cell_type": "markdown",
   "metadata": {},
   "source": [
    "### 1-2. assumption 데이터 확인"
   ]
  },
  {
   "cell_type": "code",
   "execution_count": 2,
   "metadata": {},
   "outputs": [
    {
     "data": {
      "text/plain": [
       "{'통상수선비': {'TypeA': 1000, 'TypeB': 1200, 'TypeC': 2000},\n",
       " '대수선공사비': {'TypeA': 30000000, 'TypeB': 35000000, 'TypeC': 50000000},\n",
       " '수선시작일': {'TypeA': datetime.datetime(2025, 3, 1, 0, 0),\n",
       "  'TypeB': datetime.datetime(2025, 4, 1, 0, 0),\n",
       "  'TypeC': datetime.datetime(2025, 5, 1, 0, 0)},\n",
       " '수선종료일': {'TypeA': datetime.datetime(2025, 3, 31, 0, 0),\n",
       "  'TypeB': datetime.datetime(2025, 4, 30, 0, 0),\n",
       "  'TypeC': datetime.datetime(2025, 5, 31, 0, 0)}}"
      ]
     },
     "execution_count": 2,
     "metadata": {},
     "output_type": "execute_result"
    }
   ],
   "source": [
    "assumption['facility_cost']"
   ]
  },
  {
   "cell_type": "markdown",
   "metadata": {},
   "source": [
    "### 1-3. 빈 facility_cost 딕셔너리 설정"
   ]
  },
  {
   "cell_type": "code",
   "execution_count": 3,
   "metadata": {},
   "outputs": [],
   "source": [
    "facility_cost = {}"
   ]
  },
  {
   "cell_type": "markdown",
   "metadata": {},
   "source": [
    "## 2. 통상수선비"
   ]
  },
  {
   "cell_type": "code",
   "execution_count": 4,
   "metadata": {},
   "outputs": [],
   "source": [
    "data = []\n",
    "for dt in index['model']:\n",
    "    dct = {}\n",
    "\n",
    "    if dt in index['operating']:\n",
    "        dct['TypeA'] = int(\n",
    "            operating_income['TypeA'].loc[dt, '판매객실수'] * \n",
    "            assumption['facility_cost']['통상수선비']['TypeA'] *\n",
    "            index['연간인상률'].loc[dt, '운영비']\n",
    "        )\n",
    "        dct['TypeB'] = int(\n",
    "            operating_income['TypeB'].loc[dt, '판매객실수'] * \n",
    "            assumption['facility_cost']['통상수선비']['TypeB'] *\n",
    "            index['연간인상률'].loc[dt, '운영비']\n",
    "        )\n",
    "        dct['TypeC'] = int(\n",
    "            operating_income['TypeC'].loc[dt, '판매객실수'] * \n",
    "            assumption['facility_cost']['통상수선비']['TypeC'] *\n",
    "            index['연간인상률'].loc[dt, '운영비']\n",
    "        )\n",
    "    else:\n",
    "        dct['TypeA'] = 0\n",
    "        dct['TypeB'] = 0\n",
    "        dct['TypeC'] = 0\n",
    "        \n",
    "    dct['Total'] = dct['TypeA'] + dct['TypeB'] + dct['TypeC']\n",
    "    data.append(dct)\n",
    "\n",
    "facility_cost['통상수선비'] = pd.DataFrame(data, index=index['model'])"
   ]
  },
  {
   "cell_type": "markdown",
   "metadata": {},
   "source": [
    "## 3. 대수선공사비"
   ]
  },
  {
   "cell_type": "code",
   "execution_count": 5,
   "metadata": {},
   "outputs": [],
   "source": [
    "data = []\n",
    "for dt in index['model']:\n",
    "    dct = {}\n",
    "    if dt in index['수선TypeA']:\n",
    "        dct['TypeA'] = int(\n",
    "            assumption['business_overview']['객실수']['TypeA'] * \n",
    "            assumption['facility_cost']['대수선공사비']['TypeA']\n",
    "        )\n",
    "    else:\n",
    "        dct['TypeA'] = 0\n",
    "\n",
    "    if dt in index['수선TypeB']:\n",
    "        dct['TypeB'] = int(\n",
    "            assumption['business_overview']['객실수']['TypeB'] * \n",
    "            assumption['facility_cost']['대수선공사비']['TypeB']\n",
    "        )\n",
    "    else:\n",
    "        dct['TypeB'] = 0\n",
    "\n",
    "    if dt in index['수선TypeC']:\n",
    "        dct['TypeC'] = int(\n",
    "            assumption['business_overview']['객실수']['TypeC'] * \n",
    "            assumption['facility_cost']['대수선공사비']['TypeC']\n",
    "        )\n",
    "    else:\n",
    "        dct['TypeC'] = 0\n",
    "    \n",
    "    dct['Total'] = dct['TypeA'] + dct['TypeB'] + dct['TypeC']\n",
    "    data.append(dct)\n",
    "\n",
    "facility_cost['대수선공사비'] = pd.DataFrame(data, index=index['model'])"
   ]
  },
  {
   "cell_type": "markdown",
   "metadata": {},
   "source": [
    "## 4. SubTotal"
   ]
  },
  {
   "cell_type": "code",
   "execution_count": 6,
   "metadata": {},
   "outputs": [],
   "source": [
    "facility_cost['TypeA'] = subtotal(facility_cost, 'TypeA')\n",
    "facility_cost['TypeB'] = subtotal(facility_cost, 'TypeB')\n",
    "facility_cost['TypeC'] = subtotal(facility_cost, 'TypeC')\n",
    "facility_cost['Total'] = subtotal(facility_cost, 'Total')"
   ]
  },
  {
   "cell_type": "markdown",
   "metadata": {},
   "source": [
    "## 5. facility_cost.py 파일 작성"
   ]
  },
  {
   "cell_type": "code",
   "execution_count": null,
   "metadata": {},
   "outputs": [],
   "source": [
    "# m06_facility_cost.py\n",
    "\n",
    "import pandas as pd\n",
    "\n",
    "from m00_general_function import subtotal\n",
    "from m01_assumption import assumption\n",
    "from m02_index import index\n",
    "from m04_operating_income import operating_income\n",
    "\n",
    "\n",
    "facility_cost = {}\n",
    "\n",
    "#### 1. 통상수선비\n",
    "data = []\n",
    "for dt in index['model']:\n",
    "    dct = {}\n",
    "    dct['TypeA'] = int(\n",
    "        operating_income['TypeA'].loc[dt, '판매객실수'] * \n",
    "        assumption['facility_cost']['통상수선비']['TypeA'] *\n",
    "        index['연간인상률'].loc[dt, '운영비']\n",
    "    )\n",
    "    dct['TypeB'] = int(\n",
    "        operating_income['TypeB'].loc[dt, '판매객실수'] * \n",
    "        assumption['facility_cost']['통상수선비']['TypeB'] *\n",
    "        index['연간인상률'].loc[dt, '운영비']\n",
    "    )\n",
    "    dct['TypeC'] = int(\n",
    "        operating_income['TypeC'].loc[dt, '판매객실수'] * \n",
    "        assumption['facility_cost']['통상수선비']['TypeC'] *\n",
    "        index['연간인상률'].loc[dt, '운영비']\n",
    "    )\n",
    "    dct['Total'] = dct['TypeA'] + dct['TypeB'] + dct['TypeC']\n",
    "    data.append(dct)\n",
    "\n",
    "facility_cost['통상수선비'] = pd.DataFrame(data, index=index['model'])\n",
    "\n",
    "\n",
    "#### 2. 대수선공사비\n",
    "data = []\n",
    "for dt in index['model']:\n",
    "    dct = {}\n",
    "    if dt in index['수선TypeA']:\n",
    "        dct['TypeA'] = int(\n",
    "            assumption['business_overview']['객실수']['TypeA'] * \n",
    "            assumption['facility_cost']['대수선공사비']['TypeA']\n",
    "        )\n",
    "    else:\n",
    "        dct['TypeA'] = 0\n",
    "\n",
    "    if dt in index['수선TypeB']:\n",
    "        dct['TypeB'] = int(\n",
    "            assumption['business_overview']['객실수']['TypeB'] * \n",
    "            assumption['facility_cost']['대수선공사비']['TypeB']\n",
    "        )\n",
    "    else:\n",
    "        dct['TypeB'] = 0\n",
    "\n",
    "    if dt in index['수선TypeC']:\n",
    "        dct['TypeC'] = int(\n",
    "            assumption['business_overview']['객실수']['TypeC'] * \n",
    "            assumption['facility_cost']['대수선공사비']['TypeC']\n",
    "        )\n",
    "    else:\n",
    "        dct['TypeC'] = 0\n",
    "    \n",
    "    dct['Total'] = dct['TypeA'] + dct['TypeB'] + dct['TypeC']\n",
    "    data.append(dct)\n",
    "\n",
    "facility_cost['대수선공사비'] = pd.DataFrame(data, index=index['model'])\n",
    "\n",
    "\n",
    "#### 3. SubTotal\n",
    "facility_cost['TypeA'] = subtotal(facility_cost, 'TypeA')\n",
    "facility_cost['TypeB'] = subtotal(facility_cost, 'TypeB')\n",
    "facility_cost['TypeC'] = subtotal(facility_cost, 'TypeC')\n",
    "facility_cost['Total'] = subtotal(facility_cost, 'Total')"
   ]
  }
 ],
 "metadata": {
  "kernelspec": {
   "display_name": "fastcampus",
   "language": "python",
   "name": "python3"
  },
  "language_info": {
   "codemirror_mode": {
    "name": "ipython",
    "version": 3
   },
   "file_extension": ".py",
   "mimetype": "text/x-python",
   "name": "python",
   "nbconvert_exporter": "python",
   "pygments_lexer": "ipython3",
   "version": "3.11.7"
  }
 },
 "nbformat": 4,
 "nbformat_minor": 2
}
