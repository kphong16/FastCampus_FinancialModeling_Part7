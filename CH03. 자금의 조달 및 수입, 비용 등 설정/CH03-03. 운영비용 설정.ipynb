{
 "cells": [
  {
   "cell_type": "markdown",
   "metadata": {},
   "source": [
    "# [ 3-3. 운영비용 설정 ]"
   ]
  },
  {
   "cell_type": "markdown",
   "metadata": {},
   "source": [
    "## 1. 필요한 모듈 import 및 기본 설정\n",
    "### 1-1. 필요한 모듈 import"
   ]
  },
  {
   "cell_type": "code",
   "execution_count": 1,
   "metadata": {},
   "outputs": [],
   "source": [
    "import pandas as pd\n",
    "pd.set_option('display.max_rows', 30)\n",
    "pd.set_option('display.max_columns', 100)\n",
    "pd.set_option('display.max_colwidth', 20)\n",
    "pd.set_option('display.width', 300)\n",
    "\n",
    "# DataFrame의 출력을 확장하여 한 줄로 계속 출력되도록 설정\n",
    "pd.set_option('display.expand_frame_repr', True)\n",
    "\n",
    "from m01_assumption import assumption\n",
    "from m02_index import index\n",
    "from m04_operating_income import operating_income"
   ]
  },
  {
   "cell_type": "markdown",
   "metadata": {},
   "source": [
    "### 1-2. assumption 데이터 확인"
   ]
  },
  {
   "cell_type": "code",
   "execution_count": 2,
   "metadata": {},
   "outputs": [
    {
     "data": {
      "text/plain": [
       "{'청소세탁비': {'TypeA': 10000, 'TypeB': 12000, 'TypeC': 20000},\n",
       " '수도광열비': {'TypeA': 5000, 'TypeB': 6000, 'TypeC': 10000, 'Overhead': 3000000},\n",
       " '예약수수료율': {'TypeA': 0.03, 'TypeB': 0.03, 'TypeC': 0.03}}"
      ]
     },
     "execution_count": 2,
     "metadata": {},
     "output_type": "execute_result"
    }
   ],
   "source": [
    "assumption['room_operating_cost']"
   ]
  },
  {
   "cell_type": "code",
   "execution_count": 3,
   "metadata": {},
   "outputs": [
    {
     "data": {
      "text/plain": [
       "{'광고홍보비예산': {'amount': 200000000},\n",
       " '광고홍보비': {1: 0.15,\n",
       "  2: 0.15,\n",
       "  3: 0.05,\n",
       "  4: 0.05,\n",
       "  5: 0.05,\n",
       "  6: 0.05,\n",
       "  7: 0.1,\n",
       "  8: 0.1,\n",
       "  9: 0.05,\n",
       "  10: 0.05,\n",
       "  11: 0.05,\n",
       "  12: 0.15},\n",
       " '기타운영비': {'amount': 10000000}}"
      ]
     },
     "execution_count": 3,
     "metadata": {},
     "output_type": "execute_result"
    }
   ],
   "source": [
    "assumption['management_cost']"
   ]
  },
  {
   "cell_type": "code",
   "execution_count": 4,
   "metadata": {},
   "outputs": [
    {
     "data": {
      "text/plain": [
       "{'employee_count': {'객실운영팀_정규직': 5,\n",
       "  '객실운영팀_임시직': 2,\n",
       "  '경영지원팀_임원': 1,\n",
       "  '경영지원팀_정규직': 3,\n",
       "  '마케팅팀_정규직': 2,\n",
       "  '시설관리팀_정규직': 2,\n",
       "  '시설관리팀_임시직': 1},\n",
       " 'annual_salary': {'객실운영팀_정규직': 36000000,\n",
       "  '객실운영팀_임시직': 30000000,\n",
       "  '경영지원팀_임원': 80000000,\n",
       "  '경영지원팀_정규직': 36000000,\n",
       "  '마케팅팀_정규직': 36000000,\n",
       "  '시설관리팀_정규직': 36000000,\n",
       "  '시설관리팀_임시직': 30000000}}"
      ]
     },
     "execution_count": 4,
     "metadata": {},
     "output_type": "execute_result"
    }
   ],
   "source": [
    "assumption['salary_cost']"
   ]
  },
  {
   "cell_type": "markdown",
   "metadata": {},
   "source": [
    "### 1-3. 빈 operating_cost 딕셔너리 설정"
   ]
  },
  {
   "cell_type": "code",
   "execution_count": 5,
   "metadata": {},
   "outputs": [],
   "source": [
    "operating_cost = {}"
   ]
  },
  {
   "cell_type": "markdown",
   "metadata": {},
   "source": [
    "## 2. 객실운영비 설정"
   ]
  },
  {
   "cell_type": "code",
   "execution_count": 6,
   "metadata": {},
   "outputs": [],
   "source": [
    "operating_cost['객실운영비'] = {}"
   ]
  },
  {
   "cell_type": "markdown",
   "metadata": {},
   "source": [
    "### 2-1. 청소세탁비"
   ]
  },
  {
   "cell_type": "code",
   "execution_count": 7,
   "metadata": {},
   "outputs": [],
   "source": [
    "data = []\n",
    "for dt in index['model']:\n",
    "    dct = {}\n",
    "\n",
    "    if dt in index['operating']:\n",
    "        dct['TypeA'] = int(\n",
    "            operating_income['TypeA'].loc[dt, '판매객실수'] * \n",
    "            assumption['room_operating_cost']['청소세탁비']['TypeA'] *\n",
    "            index['연간인상률'].loc[dt, '운영비']\n",
    "        )\n",
    "        dct['TypeB'] = int(\n",
    "            operating_income['TypeB'].loc[dt, '판매객실수'] * \n",
    "            assumption['room_operating_cost']['청소세탁비']['TypeB'] *\n",
    "            index['연간인상률'].loc[dt, '운영비']\n",
    "        )\n",
    "        dct['TypeC'] = int(\n",
    "            operating_income['TypeC'].loc[dt, '판매객실수'] * \n",
    "            assumption['room_operating_cost']['청소세탁비']['TypeC'] *\n",
    "            index['연간인상률'].loc[dt, '운영비']\n",
    "        )\n",
    "    else:\n",
    "        dct['TypeA'] = 0\n",
    "        dct['TypeB'] = 0\n",
    "        dct['TypeC'] = 0\n",
    "\n",
    "    dct['Total'] = dct['TypeA'] + dct['TypeB'] + dct['TypeC']\n",
    "    data.append(dct)\n",
    "\n",
    "operating_cost['객실운영비']['청소세탁비'] = pd.DataFrame(data, index=index['model'])"
   ]
  },
  {
   "cell_type": "markdown",
   "metadata": {},
   "source": [
    "### 2-2. 수도광열비"
   ]
  },
  {
   "cell_type": "code",
   "execution_count": 8,
   "metadata": {},
   "outputs": [],
   "source": [
    "data = []\n",
    "for dt in index['model']:\n",
    "    dct = {}\n",
    "\n",
    "    if dt in index['operating']:\n",
    "        dct['TypeA'] = int(\n",
    "            operating_income['TypeA'].loc[dt, '판매객실수'] * \n",
    "            assumption['room_operating_cost']['수도광열비']['TypeA'] *\n",
    "            index['연간인상률'].loc[dt, '운영비']\n",
    "        )\n",
    "        dct['TypeB'] = int(\n",
    "            operating_income['TypeB'].loc[dt, '판매객실수'] * \n",
    "            assumption['room_operating_cost']['수도광열비']['TypeB'] *\n",
    "            index['연간인상률'].loc[dt, '운영비']\n",
    "        )\n",
    "        dct['TypeC'] = int(\n",
    "            operating_income['TypeC'].loc[dt, '판매객실수'] * \n",
    "            assumption['room_operating_cost']['수도광열비']['TypeC'] *\n",
    "            index['연간인상률'].loc[dt, '운영비']\n",
    "        )\n",
    "        dct['Overhead'] = int(\n",
    "            assumption['room_operating_cost']['수도광열비']['Overhead'] *\n",
    "            index['연간인상률'].loc[dt, '운영비']\n",
    "        )\n",
    "    else:\n",
    "        dct['TypeA'] = 0\n",
    "        dct['TypeB'] = 0\n",
    "        dct['TypeC'] = 0\n",
    "        dct['Overhead'] = 0\n",
    "\n",
    "    dct['Total'] = (\n",
    "        dct['TypeA'] + \n",
    "        dct['TypeB'] + \n",
    "        dct['TypeC'] +\n",
    "        dct['Overhead']\n",
    "    )\n",
    "    data.append(dct)\n",
    "\n",
    "operating_cost['객실운영비']['수도광열비'] = pd.DataFrame(data, index=index['model'])"
   ]
  },
  {
   "cell_type": "markdown",
   "metadata": {},
   "source": [
    "### 2-3. 예약수수료"
   ]
  },
  {
   "cell_type": "code",
   "execution_count": 9,
   "metadata": {},
   "outputs": [],
   "source": [
    "data = []\n",
    "for dt in index['model']:\n",
    "    dct = {}\n",
    "\n",
    "    if dt in index['operating']:\n",
    "        dct['TypeA'] = int(\n",
    "            operating_income['TypeA'].loc[dt, '객실수입'] * \n",
    "            assumption['room_operating_cost']['예약수수료율']['TypeA']\n",
    "        )\n",
    "        dct['TypeB'] = int(\n",
    "            operating_income['TypeB'].loc[dt, '객실수입'] * \n",
    "            assumption['room_operating_cost']['예약수수료율']['TypeB']\n",
    "        )\n",
    "        dct['TypeC'] = int(\n",
    "            operating_income['TypeC'].loc[dt, '객실수입'] * \n",
    "            assumption['room_operating_cost']['예약수수료율']['TypeC']\n",
    "        )\n",
    "    else:\n",
    "        dct['TypeA'] = 0\n",
    "        dct['TypeB'] = 0\n",
    "        dct['TypeC'] = 0\n",
    "        \n",
    "    dct['Total'] = dct['TypeA'] + dct['TypeB'] + dct['TypeC']\n",
    "    data.append(dct)\n",
    "\n",
    "operating_cost['객실운영비']['예약수수료'] = pd.DataFrame(data, index=index['model'])"
   ]
  },
  {
   "cell_type": "markdown",
   "metadata": {},
   "source": [
    "### 2-4. SubTotal\n",
    "* '청소세탁비', '수도광열비', '예약수수료'의 사용처 구분에 따라 분류된 수치를 그에 따른 하위 항목('TypeA', 'TypeB', 등)을 기준으로 재분류해주는 함수 작성.\n",
    "\n",
    "* 즉, '객실운영비 - 청소세탁비 - TypeA', '객실운영비 - 청소세탁비 - TypeB' 등의 구조로 비용이 분류되어 있는 상태에서 '객실운영비 - TypeA', '객실운영비 - TypeB'의 구분값과 같이 하위 항목 기준으로 재분류하여 계산함."
   ]
  },
  {
   "cell_type": "code",
   "execution_count": 10,
   "metadata": {},
   "outputs": [],
   "source": [
    "def subtotal(df, param):\n",
    "    subtotal = 0\n",
    "    for key in df.keys():\n",
    "        try:\n",
    "            subtotal = subtotal + df[key][param]\n",
    "        except KeyError:\n",
    "            pass\n",
    "    return subtotal\n"
   ]
  },
  {
   "cell_type": "code",
   "execution_count": 11,
   "metadata": {},
   "outputs": [],
   "source": [
    "operating_cost['객실운영비']['TypeA'] = subtotal(operating_cost['객실운영비'], 'TypeA')\n",
    "operating_cost['객실운영비']['TypeB'] = subtotal(operating_cost['객실운영비'], 'TypeB')\n",
    "operating_cost['객실운영비']['TypeC'] = subtotal(operating_cost['객실운영비'], 'TypeC')\n",
    "operating_cost['객실운영비']['Overhead'] = subtotal(operating_cost['객실운영비'], 'Overhead')\n",
    "operating_cost['객실운영비']['Total'] = subtotal(operating_cost['객실운영비'], 'Total')"
   ]
  },
  {
   "cell_type": "markdown",
   "metadata": {},
   "source": [
    "## 3. 관리운영비"
   ]
  },
  {
   "cell_type": "code",
   "execution_count": 12,
   "metadata": {},
   "outputs": [],
   "source": [
    "operating_cost['관리운영비'] = {}"
   ]
  },
  {
   "cell_type": "markdown",
   "metadata": {},
   "source": [
    "### 3-1. 관리운영비"
   ]
  },
  {
   "cell_type": "code",
   "execution_count": 13,
   "metadata": {},
   "outputs": [],
   "source": [
    "data = []\n",
    "for dt in index['model']:\n",
    "    dct = {}\n",
    "\n",
    "    if dt in index['operating']:\n",
    "        dct['광고홍보비'] = int(\n",
    "            assumption['management_cost']['광고홍보비예산']['amount'] *\n",
    "            assumption['management_cost']['광고홍보비'][dt.month] *\n",
    "            index['연간인상률'].loc[dt, '운영비']\n",
    "        )\n",
    "        dct['기타운영비'] = int(\n",
    "            assumption['management_cost']['기타운영비']['amount'] *\n",
    "            index['연간인상률'].loc[dt, '운영비']\n",
    "        )\n",
    "    else:\n",
    "        dct['광고홍보비'] = 0\n",
    "        dct['기타운영비'] = 0\n",
    "        \n",
    "    dct['Total'] = dct['광고홍보비'] + dct['기타운영비']\n",
    "    data.append(dct)\n",
    "\n",
    "operating_cost['관리운영비']['관리운영비'] = pd.DataFrame(data, index=index['model'])\n"
   ]
  },
  {
   "cell_type": "markdown",
   "metadata": {},
   "source": [
    "### 3-2. SubTotal"
   ]
  },
  {
   "cell_type": "code",
   "execution_count": 14,
   "metadata": {},
   "outputs": [],
   "source": [
    "operating_cost['관리운영비']['Total'] = subtotal(operating_cost['관리운영비'], 'Total')"
   ]
  },
  {
   "cell_type": "markdown",
   "metadata": {},
   "source": [
    "## 4. 인건비"
   ]
  },
  {
   "cell_type": "code",
   "execution_count": 15,
   "metadata": {},
   "outputs": [],
   "source": [
    "operating_cost['인건비'] = {}"
   ]
  },
  {
   "cell_type": "markdown",
   "metadata": {},
   "source": [
    "### 4-1. 객실운영팀"
   ]
  },
  {
   "cell_type": "code",
   "execution_count": 16,
   "metadata": {},
   "outputs": [],
   "source": [
    "data = []\n",
    "for dt in index['model']:\n",
    "    dct = {}\n",
    "\n",
    "    if dt in index['operating']:\n",
    "        dct['정규직'] = int(\n",
    "            assumption['salary_cost']['employee_count']['객실운영팀_정규직'] *\n",
    "            assumption['salary_cost']['annual_salary']['객실운영팀_정규직'] *\n",
    "            index['days'].loc[dt, '월간일수'] / index['days'].loc[dt, '연간일수'] *\n",
    "            index['연간인상률'].loc[dt, '인건비']\n",
    "        )\n",
    "        dct['임시직'] = int(\n",
    "            assumption['salary_cost']['employee_count']['객실운영팀_임시직'] *\n",
    "            assumption['salary_cost']['annual_salary']['객실운영팀_임시직'] *\n",
    "            index['days'].loc[dt, '월간일수'] / index['days'].loc[dt, '연간일수'] *\n",
    "            index['연간인상률'].loc[dt, '인건비']\n",
    "        )\n",
    "    else:\n",
    "        dct['정규직'] = 0\n",
    "        dct['임시직'] = 0\n",
    "        \n",
    "    dct['Total'] = dct['정규직'] + dct['임시직']\n",
    "    data.append(dct)\n",
    "operating_cost['인건비']['객실운영팀'] = pd.DataFrame(data, index=index['model'])"
   ]
  },
  {
   "cell_type": "markdown",
   "metadata": {},
   "source": [
    "### 4-2. 경영지원팀"
   ]
  },
  {
   "cell_type": "code",
   "execution_count": 17,
   "metadata": {},
   "outputs": [],
   "source": [
    "data = []\n",
    "for dt in index['model']:\n",
    "    dct = {}\n",
    "\n",
    "    if dt in index['operating']:\n",
    "        dct['정규직'] = int(\n",
    "            assumption['salary_cost']['employee_count']['경영지원팀_정규직'] *\n",
    "            assumption['salary_cost']['annual_salary']['경영지원팀_정규직'] *\n",
    "            index['days'].loc[dt, '월간일수'] / index['days'].loc[dt, '연간일수'] *\n",
    "            index['연간인상률'].loc[dt, '인건비']\n",
    "        )\n",
    "        dct['임원'] = int(\n",
    "            assumption['salary_cost']['employee_count']['경영지원팀_임원'] *\n",
    "            assumption['salary_cost']['annual_salary']['경영지원팀_임원'] *\n",
    "            index['days'].loc[dt, '월간일수'] / index['days'].loc[dt, '연간일수'] *\n",
    "            index['연간인상률'].loc[dt, '인건비']\n",
    "        )\n",
    "    else:\n",
    "        dct['정규직'] = 0\n",
    "        dct['임원'] = 0\n",
    "        \n",
    "    dct['Total'] = dct['정규직'] + dct['임원']\n",
    "    data.append(dct)\n",
    "operating_cost['인건비']['경영지원팀'] = pd.DataFrame(data, index=index['model'])"
   ]
  },
  {
   "cell_type": "markdown",
   "metadata": {},
   "source": [
    "### 4-3. 마케팅팀"
   ]
  },
  {
   "cell_type": "code",
   "execution_count": 18,
   "metadata": {},
   "outputs": [],
   "source": [
    "data = []\n",
    "for dt in index['model']:\n",
    "    dct = {}\n",
    "\n",
    "    if dt in index['operating']:\n",
    "        dct['정규직'] = int(\n",
    "            assumption['salary_cost']['employee_count']['마케팅팀_정규직'] *\n",
    "            assumption['salary_cost']['annual_salary']['마케팅팀_정규직'] *\n",
    "            index['days'].loc[dt, '월간일수'] / index['days'].loc[dt, '연간일수'] *\n",
    "            index['연간인상률'].loc[dt, '인건비']\n",
    "        )\n",
    "    else:\n",
    "        dct['정규직'] = 0\n",
    "        \n",
    "    dct['Total'] = dct['정규직']\n",
    "    data.append(dct)\n",
    "operating_cost['인건비']['마케팅팀'] = pd.DataFrame(data, index=index['model'])"
   ]
  },
  {
   "cell_type": "markdown",
   "metadata": {},
   "source": [
    "### 4-4. 시설관리팀"
   ]
  },
  {
   "cell_type": "code",
   "execution_count": 19,
   "metadata": {},
   "outputs": [],
   "source": [
    "data = []\n",
    "for dt in index['model']:\n",
    "    dct = {}\n",
    "\n",
    "    if dt in index['operating']:\n",
    "        dct['정규직'] = int(\n",
    "            assumption['salary_cost']['employee_count']['시설관리팀_정규직'] *\n",
    "            assumption['salary_cost']['annual_salary']['시설관리팀_정규직'] *\n",
    "            index['days'].loc[dt, '월간일수'] / index['days'].loc[dt, '연간일수'] *\n",
    "            index['연간인상률'].loc[dt, '인건비']\n",
    "        )\n",
    "        dct['임시직'] = int(\n",
    "            assumption['salary_cost']['employee_count']['시설관리팀_임시직'] *\n",
    "            assumption['salary_cost']['annual_salary']['시설관리팀_임시직'] *\n",
    "            index['days'].loc[dt, '월간일수'] / index['days'].loc[dt, '연간일수'] *\n",
    "            index['연간인상률'].loc[dt, '인건비']\n",
    "        )\n",
    "    else:\n",
    "        dct['정규직'] = 0\n",
    "        dct['임시직'] = 0\n",
    "        \n",
    "    dct['Total'] = dct['정규직'] + dct['임시직']\n",
    "    data.append(dct)\n",
    "operating_cost['인건비']['시설관리팀'] = pd.DataFrame(data, index=index['model'])"
   ]
  },
  {
   "cell_type": "markdown",
   "metadata": {},
   "source": [
    "### 4-5. SubTotal"
   ]
  },
  {
   "cell_type": "code",
   "execution_count": 20,
   "metadata": {},
   "outputs": [],
   "source": [
    "operating_cost['인건비']['정규직'] = subtotal(operating_cost['인건비'], '정규직')\n",
    "operating_cost['인건비']['임시직'] = subtotal(operating_cost['인건비'], '임시직')\n",
    "operating_cost['인건비']['임원'] = subtotal(operating_cost['인건비'], '임원')\n",
    "operating_cost['인건비']['Total'] = subtotal(operating_cost['인건비'], 'Total')"
   ]
  },
  {
   "cell_type": "markdown",
   "metadata": {},
   "source": [
    "## 5. operating_cost.py 파일 작성\n",
    "* subtotal 함수는 general_function 모듈로 이동\n",
    "\n",
    "* 나머지 코드들은 operating_cost.py 파일로 이동\n",
    "\n",
    "* general_function 모듈에서 subtotal 함수 import하는 코드 추가"
   ]
  },
  {
   "cell_type": "code",
   "execution_count": 21,
   "metadata": {},
   "outputs": [],
   "source": [
    "# m05_operating_cost.py\n",
    "\n",
    "import pandas as pd\n",
    "\n",
    "from m00_general_function import subtotal\n",
    "from m01_assumption import assumption\n",
    "from m02_index import index\n",
    "from m04_operating_income import operating_income\n",
    "\n",
    "\n",
    "operating_cost = {}\n",
    "\n",
    "#### 1. 객실운영비\n",
    "operating_cost['객실운영비'] = {}\n",
    "\n",
    "## 1-1. 청소세탁비\n",
    "data = []\n",
    "for dt in index['model']:\n",
    "    dct = {}\n",
    "    dct['TypeA'] = int(\n",
    "        operating_income['TypeA'].loc[dt, '판매객실수'] * \n",
    "        assumption['room_operating_cost']['청소세탁비']['TypeA'] *\n",
    "        index['연간인상률'].loc[dt, '운영비']\n",
    "    )\n",
    "    dct['TypeB'] = int(\n",
    "        operating_income['TypeB'].loc[dt, '판매객실수'] * \n",
    "        assumption['room_operating_cost']['청소세탁비']['TypeB'] *\n",
    "        index['연간인상률'].loc[dt, '운영비']\n",
    "    )\n",
    "    dct['TypeC'] = int(\n",
    "        operating_income['TypeC'].loc[dt, '판매객실수'] * \n",
    "        assumption['room_operating_cost']['청소세탁비']['TypeC'] *\n",
    "        index['연간인상률'].loc[dt, '운영비']\n",
    "    )\n",
    "    dct['Total'] = dct['TypeA'] + dct['TypeB'] + dct['TypeC']\n",
    "    data.append(dct)\n",
    "\n",
    "operating_cost['객실운영비']['청소세탁비'] = pd.DataFrame(data, index=index['model'])\n",
    "\n",
    "\n",
    "## 1-2. 수도광열비\n",
    "data = []\n",
    "for dt in index['model']:\n",
    "    dct = {}\n",
    "    dct['TypeA'] = int(\n",
    "        operating_income['TypeA'].loc[dt, '판매객실수'] * \n",
    "        assumption['room_operating_cost']['수도광열비']['TypeA'] *\n",
    "        index['연간인상률'].loc[dt, '운영비']\n",
    "    )\n",
    "    dct['TypeB'] = int(\n",
    "        operating_income['TypeB'].loc[dt, '판매객실수'] * \n",
    "        assumption['room_operating_cost']['수도광열비']['TypeB'] *\n",
    "        index['연간인상률'].loc[dt, '운영비']\n",
    "    )\n",
    "    dct['TypeC'] = int(\n",
    "        operating_income['TypeC'].loc[dt, '판매객실수'] * \n",
    "        assumption['room_operating_cost']['수도광열비']['TypeC'] *\n",
    "        index['연간인상률'].loc[dt, '운영비']\n",
    "    )\n",
    "    dct['Overhead'] = int(\n",
    "        assumption['room_operating_cost']['수도광열비']['Overhead'] *\n",
    "        index['연간인상률'].loc[dt, '운영비']\n",
    "    )\n",
    "    dct['Total'] = (\n",
    "        dct['TypeA'] + \n",
    "        dct['TypeB'] + \n",
    "        dct['TypeC'] +\n",
    "        dct['Overhead']\n",
    "    )\n",
    "    data.append(dct)\n",
    "\n",
    "operating_cost['객실운영비']['수도광열비'] = pd.DataFrame(data, index=index['model'])\n",
    "\n",
    "\n",
    "## 1-3. 예약수수료\n",
    "data = []\n",
    "for dt in index['model']:\n",
    "    dct = {}\n",
    "    dct['TypeA'] = int(\n",
    "        operating_income['TypeA'].loc[dt, '객실수입'] * \n",
    "        assumption['room_operating_cost']['예약수수료율']['TypeA']\n",
    "    )\n",
    "    dct['TypeB'] = int(\n",
    "        operating_income['TypeB'].loc[dt, '객실수입'] * \n",
    "        assumption['room_operating_cost']['예약수수료율']['TypeB']\n",
    "    )\n",
    "    dct['TypeC'] = int(\n",
    "        operating_income['TypeC'].loc[dt, '객실수입'] * \n",
    "        assumption['room_operating_cost']['예약수수료율']['TypeC']\n",
    "    )\n",
    "    dct['Total'] = dct['TypeA'] + dct['TypeB'] + dct['TypeC']\n",
    "    data.append(dct)\n",
    "\n",
    "operating_cost['객실운영비']['예약수수료'] = pd.DataFrame(data, index=index['model'])\n",
    "\n",
    "\n",
    "## 1-4. SubTotal\n",
    "operating_cost['객실운영비']['TypeA'] = subtotal(operating_cost['객실운영비'], 'TypeA')\n",
    "operating_cost['객실운영비']['TypeB'] = subtotal(operating_cost['객실운영비'], 'TypeB')\n",
    "operating_cost['객실운영비']['TypeC'] = subtotal(operating_cost['객실운영비'], 'TypeC')\n",
    "operating_cost['객실운영비']['Overhead'] = subtotal(operating_cost['객실운영비'], 'Overhead')\n",
    "operating_cost['객실운영비']['Total'] = subtotal(operating_cost['객실운영비'], 'Total')\n",
    "\n",
    "\n",
    "#### 2. 관리운영비\n",
    "operating_cost['관리운영비'] = {}\n",
    "\n",
    "## 2-1. 관리운영비\n",
    "data = []\n",
    "for dt in index['model']:\n",
    "    dct = {}\n",
    "    dct['광고홍보비'] = int(\n",
    "        assumption['management_cost']['광고홍보비예산']['amount'] *\n",
    "        assumption['management_cost']['광고홍보비'][dt.month] *\n",
    "        index['연간인상률'].loc[dt, '운영비']\n",
    "    )\n",
    "    dct['기타운영비'] = int(\n",
    "        assumption['management_cost']['기타운영비']['amount'] *\n",
    "        index['연간인상률'].loc[dt, '운영비']\n",
    "    )\n",
    "    dct['Total'] = dct['광고홍보비'] + dct['기타운영비']\n",
    "    data.append(dct)\n",
    "\n",
    "operating_cost['관리운영비']['관리운영비'] = pd.DataFrame(data, index=index['model'])\n",
    "\n",
    "## 2-2. SubTotal\n",
    "operating_cost['관리운영비']['Total'] = subtotal(operating_cost['관리운영비'], 'Total')\n",
    "\n",
    "\n",
    "#### 3. 인건비\n",
    "operating_cost['인건비'] = {}\n",
    "\n",
    "## 3-1. 객실운영팀\n",
    "data = []\n",
    "for dt in index['model']:\n",
    "    dct = {}\n",
    "    dct['정규직'] = int(\n",
    "        assumption['salary_cost']['employee_count']['객실운영팀_정규직'] *\n",
    "        assumption['salary_cost']['annual_salary']['객실운영팀_정규직'] *\n",
    "        index['days'].loc[dt, '월간일수'] / index['days'].loc[dt, '연간일수'] *\n",
    "        index['연간인상률'].loc[dt, '인건비']\n",
    "    )\n",
    "    dct['임시직'] = int(\n",
    "        assumption['salary_cost']['employee_count']['객실운영팀_임시직'] *\n",
    "        assumption['salary_cost']['annual_salary']['객실운영팀_임시직'] *\n",
    "        index['days'].loc[dt, '월간일수'] / index['days'].loc[dt, '연간일수'] *\n",
    "        index['연간인상률'].loc[dt, '인건비']\n",
    "    )\n",
    "    dct['Total'] = dct['정규직'] + dct['임시직']\n",
    "    data.append(dct)\n",
    "operating_cost['인건비']['객실운영팀'] = pd.DataFrame(data, index=index['model'])\n",
    "\n",
    "## 3-2. 경영지원팀\n",
    "data = []\n",
    "for dt in index['model']:\n",
    "    dct = {}\n",
    "    dct['정규직'] = int(\n",
    "        assumption['salary_cost']['employee_count']['경영지원팀_정규직'] *\n",
    "        assumption['salary_cost']['annual_salary']['경영지원팀_정규직'] *\n",
    "        index['days'].loc[dt, '월간일수'] / index['days'].loc[dt, '연간일수'] *\n",
    "        index['연간인상률'].loc[dt, '인건비']\n",
    "    )\n",
    "    dct['임원'] = int(\n",
    "        assumption['salary_cost']['employee_count']['경영지원팀_임원'] *\n",
    "        assumption['salary_cost']['annual_salary']['경영지원팀_임원'] *\n",
    "        index['days'].loc[dt, '월간일수'] / index['days'].loc[dt, '연간일수'] *\n",
    "        index['연간인상률'].loc[dt, '인건비']\n",
    "    )\n",
    "    dct['Total'] = dct['정규직'] + dct['임원']\n",
    "    data.append(dct)\n",
    "operating_cost['인건비']['경영지원팀'] = pd.DataFrame(data, index=index['model'])\n",
    "\n",
    "## 3-3. 마케팅팀\n",
    "data = []\n",
    "for dt in index['model']:\n",
    "    dct = {}\n",
    "    dct['정규직'] = int(\n",
    "        assumption['salary_cost']['employee_count']['마케팅팀_정규직'] *\n",
    "        assumption['salary_cost']['annual_salary']['마케팅팀_정규직'] *\n",
    "        index['days'].loc[dt, '월간일수'] / index['days'].loc[dt, '연간일수'] *\n",
    "        index['연간인상률'].loc[dt, '인건비']\n",
    "    )\n",
    "    dct['Total'] = dct['정규직']\n",
    "    data.append(dct)\n",
    "operating_cost['인건비']['마케팅팀'] = pd.DataFrame(data, index=index['model'])\n",
    "\n",
    "## 3-4. 시설관리팀\n",
    "data = []\n",
    "for dt in index['model']:\n",
    "    dct = {}\n",
    "    dct['정규직'] = int(\n",
    "        assumption['salary_cost']['employee_count']['시설관리팀_정규직'] *\n",
    "        assumption['salary_cost']['annual_salary']['시설관리팀_정규직'] *\n",
    "        index['days'].loc[dt, '월간일수'] / index['days'].loc[dt, '연간일수'] *\n",
    "        index['연간인상률'].loc[dt, '인건비']\n",
    "    )\n",
    "    dct['임시직'] = int(\n",
    "        assumption['salary_cost']['employee_count']['시설관리팀_임시직'] *\n",
    "        assumption['salary_cost']['annual_salary']['시설관리팀_임시직'] *\n",
    "        index['days'].loc[dt, '월간일수'] / index['days'].loc[dt, '연간일수'] *\n",
    "        index['연간인상률'].loc[dt, '인건비']\n",
    "    )\n",
    "    dct['Total'] = dct['임시직']\n",
    "    data.append(dct)\n",
    "operating_cost['인건비']['시설관리팀'] = pd.DataFrame(data, index=index['model'])\n",
    "\n",
    "## 3-5. SubTotal\n",
    "operating_cost['인건비']['정규직'] = subtotal(operating_cost['인건비'], '정규직')\n",
    "operating_cost['인건비']['임시직'] = subtotal(operating_cost['인건비'], '임시직')\n",
    "operating_cost['인건비']['임원'] = subtotal(operating_cost['인건비'], '임원')\n",
    "operating_cost['인건비']['Total'] = subtotal(operating_cost['인건비'], 'Total')"
   ]
  }
 ],
 "metadata": {
  "kernelspec": {
   "display_name": "Python 3",
   "language": "python",
   "name": "python3"
  },
  "language_info": {
   "codemirror_mode": {
    "name": "ipython",
    "version": 3
   },
   "file_extension": ".py",
   "mimetype": "text/x-python",
   "name": "python",
   "nbconvert_exporter": "python",
   "pygments_lexer": "ipython3",
   "version": "3.11.7"
  }
 },
 "nbformat": 4,
 "nbformat_minor": 2
}
