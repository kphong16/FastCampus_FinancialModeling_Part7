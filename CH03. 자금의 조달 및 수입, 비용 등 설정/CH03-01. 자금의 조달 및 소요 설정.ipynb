{
 "cells": [
  {
   "cell_type": "markdown",
   "metadata": {},
   "source": [
    "# [ 3-1. 자금의 조달 및 소요 설정]"
   ]
  },
  {
   "cell_type": "markdown",
   "metadata": {},
   "source": [
    "## 1. assumption 데이터 확인 및 기본 설정 진행"
   ]
  },
  {
   "cell_type": "markdown",
   "metadata": {},
   "source": [
    "### 1-1. 필요한 모듈 import\n",
    "\n",
    "* 먼저 작성한 FSmodeling_assumption.xlsx 파일, m00_general_function.py 파일, m01_assumption.py 파일, m02_index.py 파일을 폴더에 복사 이동\n",
    "\n",
    "* 모듈 내에서 필요한 객체들을 import"
   ]
  },
  {
   "cell_type": "code",
   "execution_count": 15,
   "metadata": {},
   "outputs": [],
   "source": [
    "import pandas as pd\n",
    "\n",
    "from m01_assumption import assumption\n",
    "from m02_index import index"
   ]
  },
  {
   "cell_type": "markdown",
   "metadata": {},
   "source": [
    "### 1-2. assumption 데이터 확인"
   ]
  },
  {
   "cell_type": "code",
   "execution_count": 20,
   "metadata": {},
   "outputs": [
    {
     "data": {
      "text/plain": [
       "{'사업개요': {'사업내용': '호텔건물 매입 및 운영 사업',\n",
       "  '건물명': 'FS호텔',\n",
       "  '주소': '서울시 강남구 테헤란로',\n",
       "  '건물규모': '지하1층/지상10층'},\n",
       " '객실수': {'TypeA': 40, 'TypeB': 40, 'TypeC': 20},\n",
       " '자산매입': {'자산매입금액': 18000000000, '매입부수비용': 1000000000}}"
      ]
     },
     "execution_count": 20,
     "metadata": {},
     "output_type": "execute_result"
    }
   ],
   "source": [
    "assumption['business_overview']"
   ]
  },
  {
   "cell_type": "code",
   "execution_count": 21,
   "metadata": {},
   "outputs": [
    {
     "data": {
      "text/plain": [
       "{'기본기간가정': {'모델시작일': datetime.datetime(2023, 12, 1, 0, 0),\n",
       "  '모델종료일': datetime.datetime(2027, 1, 31, 0, 0),\n",
       "  '운영시작일': datetime.datetime(2024, 1, 1, 0, 0),\n",
       "  '운영종료일': datetime.datetime(2026, 12, 31, 0, 0)},\n",
       " '자산매입일정': {'자산매입일': datetime.datetime(2023, 12, 31, 0, 0),\n",
       "  '매입부수비용지급일': datetime.datetime(2023, 12, 31, 0, 0)},\n",
       " '자금조달일정': {'자기자본유입일': datetime.datetime(2023, 12, 31, 0, 0),\n",
       "  '차입금유입일': datetime.datetime(2023, 12, 31, 0, 0),\n",
       "  '이자지급시작일': datetime.datetime(2024, 1, 1, 0, 0),\n",
       "  '이자지급종료일': datetime.datetime(2026, 12, 31, 0, 0),\n",
       "  '원금상환시작일': datetime.datetime(2024, 1, 1, 0, 0),\n",
       "  '원금상환종료일': datetime.datetime(2026, 12, 31, 0, 0)},\n",
       " '연간인상률': {'판매단가': 0.05, '운영비': 0.03, '인건비': 0.05}}"
      ]
     },
     "execution_count": 21,
     "metadata": {},
     "output_type": "execute_result"
    }
   ],
   "source": [
    "assumption['period_assumptions']"
   ]
  },
  {
   "cell_type": "code",
   "execution_count": 22,
   "metadata": {},
   "outputs": [
    {
     "data": {
      "text/plain": [
       "{'equity': {'amount': 10000000000,\n",
       "  '최초배당일': datetime.datetime(2025, 12, 31, 0, 0),\n",
       "  '배당률': 0.3},\n",
       " 'loan': {'amount': 10000000000,\n",
       "  '원금상환주기': 3,\n",
       "  '상환원금': 50000000,\n",
       "  '이자지급주기': 1,\n",
       "  '이자율': 0.05}}"
      ]
     },
     "execution_count": 22,
     "metadata": {},
     "output_type": "execute_result"
    }
   ],
   "source": [
    "assumption['funding_assumptions']"
   ]
  },
  {
   "cell_type": "markdown",
   "metadata": {},
   "source": [
    "### 1-3. 빈 funding 딕셔너리 설정"
   ]
  },
  {
   "cell_type": "code",
   "execution_count": 24,
   "metadata": {},
   "outputs": [],
   "source": [
    "funding = {}"
   ]
  },
  {
   "cell_type": "markdown",
   "metadata": {},
   "source": [
    "## 2. 자기자본 설정\n",
    "* index['model'] 기간 중 \"자기자본유입일\"에 해당하는 날짜에는 해당 금액(equity.amount)을 기록\n",
    "\n",
    "* 그 외의 경우에는 0을 기록\n",
    "\n",
    "* 추후 현금흐름 작업 시 배당금을 기록할 수 있도록 미리 \"배당금지급\" 컬럼에 0으로 기록"
   ]
  },
  {
   "cell_type": "code",
   "execution_count": 8,
   "metadata": {},
   "outputs": [],
   "source": [
    "data = []\n",
    "for dt in index['model']:\n",
    "    dct = {}\n",
    "    if dt == assumption['period_assumptions']['자금조달일정']['자기자본유입일']:\n",
    "        dct['자기자본유입'] = assumption['funding_assumptions']['equity']['amount']\n",
    "    else:\n",
    "        dct['자기자본유입'] = 0\n",
    "    \n",
    "    dct['배당금지급'] = 0\n",
    "    \n",
    "    data.append(dct)\n",
    "funding['자기자본'] = pd.DataFrame(data, index=index['model'])"
   ]
  },
  {
   "cell_type": "markdown",
   "metadata": {},
   "source": [
    "## 3. 차입금 설정\n",
    "* index['model'] 기간 중에 \"차입금유입일\"에 맞춰서 차입금 유입금액을 기록\n",
    "\n",
    "* 원금상환주기와 이자지급주기에 맞춰서 원금상환금액과 이자지급금액을 기록"
   ]
  },
  {
   "cell_type": "code",
   "execution_count": 11,
   "metadata": {},
   "outputs": [],
   "source": [
    "차입금잔액 = 0\n",
    "data = []\n",
    "for dt in index['model']:\n",
    "    dct = {}\n",
    "\n",
    "    # 차입금 유입금액 설정\n",
    "    if dt == assumption['period_assumptions']['자금조달일정']['차입금유입일']:\n",
    "        차입금유입 = assumption['funding_assumptions']['loan']['amount']\n",
    "    else:\n",
    "        차입금유입 = 0\n",
    "\n",
    "    # 3개월 주기 원금상환 설정\n",
    "    if (\n",
    "        (dt in index['원금상환']) \n",
    "        and (\n",
    "            index['원금상환'].index(dt) % \n",
    "            assumption['funding_assumptions']['loan']['원금상환주기'] == 2\n",
    "        )\n",
    "    ):\n",
    "        차입금상환 = assumption['funding_assumptions']['loan']['상환원금']\n",
    "    else:\n",
    "        차입금상환 = 0\n",
    "\n",
    "    # 매월 이자 지급 설정\n",
    "    if dt in index['이자지급']:\n",
    "        이자율 = assumption['funding_assumptions']['loan']['이자율']\n",
    "        월간일수 = index['days'].loc[dt, '월간일수']\n",
    "        연간일수 = index['days'].loc[dt, '연간일수']\n",
    "        # 이자금액 계산\n",
    "        차입이자 = int(round(차입금잔액 * 이자율 * 월간일수 / 연간일수, -1))\n",
    "    else:\n",
    "        차입이자 = 0\n",
    "\n",
    "    차입금잔액 = 차입금잔액 + 차입금유입 - 차입금상환\n",
    "\n",
    "    dct['차입금유입'] = 차입금유입\n",
    "    dct['차입금상환'] = 차입금상환\n",
    "    dct['차입이자'] = 차입이자\n",
    "    dct['차입금잔액'] = 차입금잔액\n",
    "\n",
    "    data.append(dct)\n",
    "funding['차입금'] = pd.DataFrame(data, index=index['model'])"
   ]
  },
  {
   "cell_type": "markdown",
   "metadata": {},
   "source": [
    "## 4. 자산매입 설정\n",
    "* 자산매입일과 매입부수비용지급일에 매칭하여 재산매입금액과 매입부수비용 기록"
   ]
  },
  {
   "cell_type": "code",
   "execution_count": 25,
   "metadata": {},
   "outputs": [],
   "source": [
    "data = []\n",
    "for dt in index['model']:\n",
    "    dct = {}\n",
    "    if dt == assumption['period_assumptions']['자산매입일정']['자산매입일']:\n",
    "        dct['자산매입'] = assumption['business_overview']['자산매입']['자산매입금액']\n",
    "    else:\n",
    "        dct['자산매입'] = 0\n",
    "    \n",
    "    if dt == assumption['period_assumptions']['자산매입일정']['매입부수비용지급일']:\n",
    "        dct['매입부수비용'] = assumption['business_overview']['자산매입']['매입부수비용']\n",
    "    else:\n",
    "        dct['매입부수비용'] = 0\n",
    "    \n",
    "    data.append(dct)\n",
    "funding['자산매입'] = pd.DataFrame(data, index=index['model'])"
   ]
  },
  {
   "cell_type": "markdown",
   "metadata": {},
   "source": [
    "## 5. funding.py 파일 작성"
   ]
  },
  {
   "cell_type": "code",
   "execution_count": null,
   "metadata": {},
   "outputs": [],
   "source": [
    "# m03_funding.py\n",
    "\n",
    "import pandas as pd\n",
    "\n",
    "from m01_assumption import assumption\n",
    "from m02_index import index\n",
    "\n",
    "\n",
    "#### 1. 빈 funding 딕셔너리 설정\n",
    "funding = {}\n",
    "\n",
    "\n",
    "#### 2. 자기자본 설정\n",
    "data = []\n",
    "for dt in index['model']:\n",
    "    dct = {}\n",
    "    if dt == assumption['period_assumptions']['자금조달일정']['자기자본유입일']:\n",
    "        dct['자기자본유입'] = assumption['funding_assumptions']['equity']['amount']\n",
    "    else:\n",
    "        dct['자기자본유입'] = 0\n",
    "    \n",
    "    dct['배당금지급'] = 0\n",
    "    \n",
    "    data.append(dct)\n",
    "funding['자기자본'] = pd.DataFrame(data, index=index['model'])\n",
    "\n",
    "\n",
    "#### 3. 차입금 설정\n",
    "차입금잔액 = 0\n",
    "data = []\n",
    "for dt in index['model']:\n",
    "    dct = {}\n",
    "\n",
    "    # 차입금 유입금액 설정\n",
    "    if dt == assumption['period_assumptions']['자금조달일정']['차입금유입일']:\n",
    "        차입금유입 = assumption['funding_assumptions']['loan']['amount']\n",
    "    else:\n",
    "        차입금유입 = 0\n",
    "\n",
    "    # 3개월 주기 원금상환 설정\n",
    "    if (\n",
    "        (dt in index['원금상환']) \n",
    "        and (\n",
    "            index['원금상환'].index(dt) % \n",
    "            assumption['funding_assumptions']['loan']['원금상환주기'] == 2\n",
    "        )\n",
    "    ):\n",
    "        차입금상환 = assumption['funding_assumptions']['loan']['상환원금']\n",
    "    else:\n",
    "        차입금상환 = 0\n",
    "\n",
    "    # 매월 이자 지급 설정\n",
    "    if dt in index['이자지급']:\n",
    "        이자율 = assumption['funding_assumptions']['loan']['이자율']\n",
    "        월간일수 = index['days'].loc[dt, '월간일수']\n",
    "        연간일수 = index['days'].loc[dt, '연간일수']\n",
    "        # 이자금액 계산\n",
    "        차입이자 = int(round(차입금잔액 * 이자율 * 월간일수 / 연간일수, -1))\n",
    "    else:\n",
    "        차입이자 = 0\n",
    "\n",
    "    차입금잔액 = 차입금잔액 + 차입금유입 - 차입금상환\n",
    "\n",
    "    dct['차입금유입'] = 차입금유입\n",
    "    dct['차입금상환'] = 차입금상환\n",
    "    dct['차입이자'] = 차입이자\n",
    "    dct['차입금잔액'] = 차입금잔액\n",
    "\n",
    "    data.append(dct)\n",
    "funding['차입금'] = pd.DataFrame(data, index=index['model'])\n",
    "\n",
    "\n",
    "#### 4. 자산매입 설정\n",
    "data = []\n",
    "for dt in index['model']:\n",
    "    dct = {}\n",
    "    if dt == assumption['period_assumptions']['자산매입일정']['자산매입일']:\n",
    "        dct['자산매입'] = assumption['business_overview']['자산매입']['자산매입금액']\n",
    "    else:\n",
    "        dct['자산매입'] = 0\n",
    "    \n",
    "    if dt == assumption['period_assumptions']['자산매입일정']['매입부수비용지급일']:\n",
    "        dct['매입부수비용'] = assumption['business_overview']['자산매입']['매입부수비용']\n",
    "    else:\n",
    "        dct['매입부수비용'] = 0\n",
    "    \n",
    "    data.append(dct)\n",
    "funding['자산매입'] = pd.DataFrame(data, index=index['model'])"
   ]
  }
 ],
 "metadata": {
  "kernelspec": {
   "display_name": "Python 3",
   "language": "python",
   "name": "python3"
  },
  "language_info": {
   "codemirror_mode": {
    "name": "ipython",
    "version": 3
   },
   "file_extension": ".py",
   "mimetype": "text/x-python",
   "name": "python",
   "nbconvert_exporter": "python",
   "pygments_lexer": "ipython3",
   "version": "3.11.4"
  }
 },
 "nbformat": 4,
 "nbformat_minor": 2
}
